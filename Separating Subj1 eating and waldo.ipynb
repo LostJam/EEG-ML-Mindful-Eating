{
 "cells": [
  {
   "cell_type": "code",
   "execution_count": 1,
   "metadata": {
    "collapsed": true
   },
   "outputs": [],
   "source": [
    "import pandas as pd\n",
    "import numpy as no\n",
    "import matplotlib.pyplot as plt"
   ]
  },
  {
   "cell_type": "code",
   "execution_count": 4,
   "metadata": {},
   "outputs": [
    {
     "data": {
      "text/plain": [
       "<bound method NDFrame.head of         Time:512Hz  Epoch  Electrode  Event Id  Event Date  Event Duration\n",
       "0         0.000000      0      177.0       NaN         NaN             NaN\n",
       "1         0.001953      0      172.0       NaN         NaN             NaN\n",
       "2         0.003906      0      185.0       NaN         NaN             NaN\n",
       "3         0.005859      0      225.0       NaN         NaN             NaN\n",
       "4         0.007812      0      259.0       NaN         NaN             NaN\n",
       "5         0.009766      0      244.0       NaN         NaN             NaN\n",
       "6         0.011719      0      186.0       NaN         NaN             NaN\n",
       "7         0.013672      0      148.0       NaN         NaN             NaN\n",
       "8         0.015625      0      176.0       NaN         NaN             NaN\n",
       "9         0.017578      0      219.0       NaN         NaN             NaN\n",
       "10        0.019531      0      202.0       NaN         NaN             NaN\n",
       "11        0.021484      0      163.0       NaN         NaN             NaN\n",
       "12        0.023438      0      161.0       NaN         NaN             NaN\n",
       "13        0.025391      0      148.0       NaN         NaN             NaN\n",
       "14        0.027344      0      117.0       NaN         NaN             NaN\n",
       "15        0.029297      0      121.0       NaN         NaN             NaN\n",
       "16        0.031250      0      146.0       NaN         NaN             NaN\n",
       "17        0.033203      0      128.0       NaN         NaN             NaN\n",
       "18        0.035156      0       86.0       NaN         NaN             NaN\n",
       "19        0.037109      0       88.0       NaN         NaN             NaN\n",
       "20        0.039062      0      130.0       NaN         NaN             NaN\n",
       "21        0.041016      0      153.0       NaN         NaN             NaN\n",
       "22        0.042969      0      147.0       NaN         NaN             NaN\n",
       "23        0.044922      0      125.0       NaN         NaN             NaN\n",
       "24        0.046875      0      132.0       NaN         NaN             NaN\n",
       "25        0.048828      0      157.0       NaN         NaN             NaN\n",
       "26        0.050781      0      198.0       NaN         NaN             NaN\n",
       "27        0.052734      0      258.0       NaN         NaN             NaN\n",
       "28        0.054688      0      263.0       NaN         NaN             NaN\n",
       "29        0.056641      0      210.0       NaN         NaN             NaN\n",
       "...            ...    ...        ...       ...         ...             ...\n",
       "108738  212.378906   3398       98.0       NaN         NaN             NaN\n",
       "108739  212.380859   3398       93.0       NaN         NaN             NaN\n",
       "108740  212.382812   3398      112.0       NaN         NaN             NaN\n",
       "108741  212.384766   3398      139.0       NaN         NaN             NaN\n",
       "108742  212.386719   3398      137.0       NaN         NaN             NaN\n",
       "108743  212.388672   3398      122.0       NaN         NaN             NaN\n",
       "108744  212.390625   3398      114.0       NaN         NaN             NaN\n",
       "108745  212.392578   3398      103.0       NaN         NaN             NaN\n",
       "108746  212.394531   3398       87.0       NaN         NaN             NaN\n",
       "108747  212.396484   3398       92.0       NaN         NaN             NaN\n",
       "108748  212.398438   3398      106.0       NaN         NaN             NaN\n",
       "108749  212.400391   3398       98.0       NaN         NaN             NaN\n",
       "108750  212.402344   3398       93.0       NaN         NaN             NaN\n",
       "108751  212.404297   3398      102.0       NaN         NaN             NaN\n",
       "108752  212.406250   3398       89.0       NaN         NaN             NaN\n",
       "108753  212.408203   3398       96.0       NaN         NaN             NaN\n",
       "108754  212.410156   3398      131.0       NaN         NaN             NaN\n",
       "108755  212.412109   3398      167.0       NaN         NaN             NaN\n",
       "108756  212.414062   3398      164.0       NaN         NaN             NaN\n",
       "108757  212.416016   3398      137.0       NaN         NaN             NaN\n",
       "108758  212.417969   3398      164.0       NaN         NaN             NaN\n",
       "108759  212.419922   3398      252.0       NaN         NaN             NaN\n",
       "108760  212.421875   3398      299.0       NaN         NaN             NaN\n",
       "108761  212.423828   3398      192.0       NaN         NaN             NaN\n",
       "108762  212.425781   3398      107.0       NaN         NaN             NaN\n",
       "108763  212.427734   3398       96.0       NaN         NaN             NaN\n",
       "108764  212.429688   3398      100.0       NaN         NaN             NaN\n",
       "108765  212.431641   3398      103.0       NaN         NaN             NaN\n",
       "108766  212.433594   3398      130.0       NaN         NaN             NaN\n",
       "108767  212.435547   3398      115.0       NaN         NaN             NaN\n",
       "\n",
       "[108768 rows x 6 columns]>"
      ]
     },
     "execution_count": 4,
     "metadata": {},
     "output_type": "execute_result"
    }
   ],
   "source": [
    "subj1_comb_df = pd.read_csv('eating_waldo_subj1record-[2019.02.25-11.04.56].csv')\n",
    "subj1_comb_df.head"
   ]
  },
  {
   "cell_type": "code",
   "execution_count": 6,
   "metadata": {},
   "outputs": [
    {
     "data": {
      "text/plain": [
       "Index(['Time:512Hz', 'Epoch', 'Electrode', 'Event Id', 'Event Date',\n",
       "       'Event Duration'],\n",
       "      dtype='object')"
      ]
     },
     "execution_count": 6,
     "metadata": {},
     "output_type": "execute_result"
    }
   ],
   "source": [
    "subj1_comb_df.columns"
   ]
  },
  {
   "cell_type": "code",
   "execution_count": 9,
   "metadata": {},
   "outputs": [
    {
     "data": {
      "text/plain": [
       "Time:512Hz             0\n",
       "Epoch                  0\n",
       "Electrode              0\n",
       "Event Id          108540\n",
       "Event Date        108540\n",
       "Event Duration    108540\n",
       "dtype: int64"
      ]
     },
     "execution_count": 9,
     "metadata": {},
     "output_type": "execute_result"
    }
   ],
   "source": [
    "subj1_comb_df.isnull().sum()"
   ]
  },
  {
   "cell_type": "code",
   "execution_count": 21,
   "metadata": {},
   "outputs": [
    {
     "data": {
      "image/png": "[encoded data removed]",
      "text/plain": [
       "<matplotlib.figure.Figure at 0x2de993a7be0>"
      ]
     },
     "metadata": {},
     "output_type": "display_data"
    }
   ],
   "source": [
    "f1, sub = plt.subplots()\n",
    "sub = plt.plot(subj1_comb_df['Time:512Hz'][160*512:200*512], subj1_comb_df['Electrode'][160*512:200*512])\n",
    "plt.show()\n"
   ]
  },
  {
   "cell_type": "code",
   "execution_count": 22,
   "metadata": {},
   "outputs": [
    {
     "name": "stdout",
     "output_type": "stream",
     "text": [
      "   Time:512Hz  Epoch  Electrode  Event Id  Event Date  Event Duration\n",
      "0    0.000000      0      177.0       NaN         NaN             NaN\n",
      "1    0.001953      0      172.0       NaN         NaN             NaN\n",
      "2    0.003906      0      185.0       NaN         NaN             NaN\n",
      "3    0.005859      0      225.0       NaN         NaN             NaN\n",
      "4    0.007812      0      259.0       NaN         NaN             NaN\n",
      "       Time:512Hz  Epoch  Electrode  Event Id  Event Date  Event Duration\n",
      "90624  177.000000   2832      168.0       NaN         NaN             NaN\n",
      "90625  177.001953   2832      123.0       NaN         NaN             NaN\n",
      "90626  177.003906   2832       52.0       NaN         NaN             NaN\n",
      "90627  177.005859   2832       -4.0       NaN         NaN             NaN\n",
      "90628  177.007812   2832        4.0       NaN         NaN             NaN\n"
     ]
    }
   ],
   "source": [
    "subj1_eating = subj1_comb_df[:177*512]\n",
    "print(subj1_eating.head())\n",
    "subj1_waldo = subj1_comb_df[177*512:]\n",
    "print(subj1_waldo.head())"
   ]
  },
  {
   "cell_type": "code",
   "execution_count": 24,
   "metadata": {},
   "outputs": [],
   "source": [
    "subj1_waldo.to_csv('waldo_subj1record-[2019.02.25-11.04.56].csv')\n",
    "subj1_eating.to_csv('eating_subj1record-[2019.02.25-11.04.56].csv')"
   ]
  },
  {
   "cell_type": "code",
   "execution_count": null,
   "metadata": {
    "collapsed": true
   },
   "outputs": [],
   "source": []
  }
 ],
 "metadata": {
  "kernelspec": {
   "display_name": "Python 3",
   "language": "python",
   "name": "python3"
  },
  "language_info": {
   "codemirror_mode": {
    "name": "ipython",
    "version": 3
   },
   "file_extension": ".py",
   "mimetype": "text/x-python",
   "name": "python",
   "nbconvert_exporter": "python",
   "pygments_lexer": "ipython3",
   "version": "3.6.3"
  }
 },
 "nbformat": 4,
 "nbformat_minor": 2
}
